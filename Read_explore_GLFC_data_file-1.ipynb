{
 "cells": [
  {
   "cell_type": "markdown",
   "metadata": {},
   "source": [
    "## The Great Lake Fishery Commision (GLFC) fish biomass data analysis \n",
    " - **First update August, 2019**\n",
    " - **Last update October 02, 2019**"
   ]
  },
  {
   "cell_type": "code",
   "execution_count": 1,
   "metadata": {},
   "outputs": [],
   "source": [
    "%matplotlib inline\n",
    "\n",
    "import pandas as pd\n",
    "import matplotlib.pyplot as plt\n",
    "import seaborn as sns\n",
    "\n",
    "pd.set_option(\"display.max_columns\", 40)"
   ]
  },
  {
   "cell_type": "markdown",
   "metadata": {},
   "source": [
    "##### Read the excel file \"DataforGLFCKoopsProject.xlsx \" that has multiple sheets"
   ]
  },
  {
   "cell_type": "code",
   "execution_count": 3,
   "metadata": {},
   "outputs": [
    {
     "name": "stdout",
     "output_type": "stream",
     "text": [
      "The shape (number of rows and columns) of the dataframe:  (36840, 8)\n",
      "\n",
      "See first few rows of the dataframe:\n",
      "\n",
      "   year  port  depth (m)  species     #/ha     g/ha      Lat     Long\n",
      "0  1973   210         18      106  3079.45  9677.60  44.5177 -86.2595\n",
      "1  1973   210         18      109   192.32  1258.37  44.5177 -86.2595\n",
      "2  1973   210         18      127     0.00     0.00  44.5177 -86.2595\n"
     ]
    }
   ],
   "source": [
    "df_fish = pd.read_excel('DataforGLFCKoopsProject.xlsx', sheet_name='data')\n",
    "print(\"The shape (number of rows and columns) of the dataframe: \", df_fish.shape)\n",
    "print()\n",
    "print(\"See first few rows of the dataframe:\\n\")\n",
    "print(df_fish.head(3))"
   ]
  },
  {
   "cell_type": "code",
   "execution_count": 38,
   "metadata": {},
   "outputs": [
    {
     "data": {
      "text/html": [
       "<div>\n",
       "<style scoped>\n",
       "    .dataframe tbody tr th:only-of-type {\n",
       "        vertical-align: middle;\n",
       "    }\n",
       "\n",
       "    .dataframe tbody tr th {\n",
       "        vertical-align: top;\n",
       "    }\n",
       "\n",
       "    .dataframe thead th {\n",
       "        text-align: right;\n",
       "    }\n",
       "</style>\n",
       "<table border=\"1\" class=\"dataframe\">\n",
       "  <thead>\n",
       "    <tr style=\"text-align: right;\">\n",
       "      <th></th>\n",
       "      <th>year</th>\n",
       "      <th>port</th>\n",
       "      <th>depth (m)</th>\n",
       "      <th>species</th>\n",
       "      <th>#/ha</th>\n",
       "      <th>g/ha</th>\n",
       "      <th>Lat</th>\n",
       "      <th>Long</th>\n",
       "    </tr>\n",
       "  </thead>\n",
       "  <tbody>\n",
       "    <tr>\n",
       "      <th>0</th>\n",
       "      <td>1973</td>\n",
       "      <td>210</td>\n",
       "      <td>18</td>\n",
       "      <td>106</td>\n",
       "      <td>3079.45</td>\n",
       "      <td>9677.60</td>\n",
       "      <td>44.5177</td>\n",
       "      <td>-86.2595</td>\n",
       "    </tr>\n",
       "    <tr>\n",
       "      <th>1</th>\n",
       "      <td>1973</td>\n",
       "      <td>210</td>\n",
       "      <td>18</td>\n",
       "      <td>109</td>\n",
       "      <td>192.32</td>\n",
       "      <td>1258.37</td>\n",
       "      <td>44.5177</td>\n",
       "      <td>-86.2595</td>\n",
       "    </tr>\n",
       "    <tr>\n",
       "      <th>2</th>\n",
       "      <td>1973</td>\n",
       "      <td>210</td>\n",
       "      <td>18</td>\n",
       "      <td>127</td>\n",
       "      <td>0.00</td>\n",
       "      <td>0.00</td>\n",
       "      <td>44.5177</td>\n",
       "      <td>-86.2595</td>\n",
       "    </tr>\n",
       "  </tbody>\n",
       "</table>\n",
       "</div>"
      ],
      "text/plain": [
       "   year  port  depth (m)  species     #/ha     g/ha      Lat     Long\n",
       "0  1973   210         18      106  3079.45  9677.60  44.5177 -86.2595\n",
       "1  1973   210         18      109   192.32  1258.37  44.5177 -86.2595\n",
       "2  1973   210         18      127     0.00     0.00  44.5177 -86.2595"
      ]
     },
     "execution_count": 38,
     "metadata": {},
     "output_type": "execute_result"
    }
   ],
   "source": [
    "df_fish.head(3)"
   ]
  },
  {
   "cell_type": "markdown",
   "metadata": {},
   "source": [
    "#### Check missing value (columnwise)"
   ]
  },
  {
   "cell_type": "code",
   "execution_count": 4,
   "metadata": {},
   "outputs": [
    {
     "data": {
      "text/plain": [
       "year         0\n",
       "port         0\n",
       "depth (m)    0\n",
       "species      0\n",
       "#/ha         0\n",
       "g/ha         0\n",
       "Lat          0\n",
       "Long         0\n",
       "dtype: int64"
      ]
     },
     "execution_count": 4,
     "metadata": {},
     "output_type": "execute_result"
    }
   ],
   "source": [
    "df_fish.isnull().sum()"
   ]
  },
  {
   "cell_type": "markdown",
   "metadata": {},
   "source": [
    "#### Check the minimum and maximum of the sampling depth"
   ]
  },
  {
   "cell_type": "code",
   "execution_count": 5,
   "metadata": {},
   "outputs": [
    {
     "name": "stdout",
     "output_type": "stream",
     "text": [
      "Min. depth (m):  9 and Max. depth (m):  110\n"
     ]
    }
   ],
   "source": [
    "print(\"Min. depth (m): \", df_fish['depth (m)'].min(), \"and Max. depth (m): \" , df_fish['depth (m)'].max())"
   ]
  },
  {
   "cell_type": "markdown",
   "metadata": {},
   "source": [
    "### Loading two other sheets: Specis and port names"
   ]
  },
  {
   "cell_type": "code",
   "execution_count": 6,
   "metadata": {},
   "outputs": [],
   "source": [
    "df_specis_names = pd.read_excel('DataforGLFCKoopsProject.xlsx', sheet_name=\"readme\", usecols=\"D:E\", skiprows=0)\n",
    "df_port_name    = pd.read_excel('DataforGLFCKoopsProject.xlsx', sheet_name=\"readme\", usecols=\"A:B\", skiprows=0)"
   ]
  },
  {
   "cell_type": "code",
   "execution_count": 8,
   "metadata": {},
   "outputs": [
    {
     "name": "stdout",
     "output_type": "stream",
     "text": [
      "Shape of the specis dataframe:  (12, 2)\n",
      "\n",
      "Shape of the port dataframe:  (12, 2)\n",
      "\n",
      "Look first five rows the dataframes:\n",
      "\n",
      "   Species Code             Species Name\n",
      "0            106                 Alewife\n",
      "1            109           Rainbow Smelt\n",
      "2            127                  Burbot\n",
      "3            129  Threespine stickleback\n",
      "4            130   Ninespine stickleback\n",
      "\n",
      "   Port No            Port Name\n",
      "0    210.0        Frankfort, MI\n",
      "1    214.0        Ludington, MI\n",
      "2    224.0        Saugatuck, MI\n",
      "3    234.0         Waukegan, IL\n",
      "4    240.0  Port Washington, WI\n"
     ]
    }
   ],
   "source": [
    "print(\"Shape of the specis dataframe: \", df_specis_names.shape)\n",
    "print()\n",
    "print(\"Shape of the port dataframe: \", df_port_name.shape)\n",
    "print()\n",
    "print(\"Look first five rows the dataframes:\\n\")\n",
    "print(df_specis_names.head())\n",
    "print()\n",
    "print(df_port_name.head())"
   ]
  },
  {
   "cell_type": "code",
   "execution_count": 9,
   "metadata": {},
   "outputs": [
    {
     "data": {
      "text/plain": [
       "Index(['Species Code ', 'Species Name'], dtype='object')"
      ]
     },
     "execution_count": 9,
     "metadata": {},
     "output_type": "execute_result"
    }
   ],
   "source": [
    "df_specis_names.columns"
   ]
  },
  {
   "cell_type": "markdown",
   "metadata": {},
   "source": [
    "### Merging 2 dataframes: df_fish and df_specis_names"
   ]
  },
  {
   "cell_type": "code",
   "execution_count": 10,
   "metadata": {},
   "outputs": [],
   "source": [
    "df_merged = df_fish.merge(df_specis_names, how='inner', left_on='species', right_on='Species Code ')"
   ]
  },
  {
   "cell_type": "code",
   "execution_count": 11,
   "metadata": {},
   "outputs": [
    {
     "name": "stdout",
     "output_type": "stream",
     "text": [
      "Shape of the merged dataframe:  (36840, 10)\n",
      "\n",
      "   year  port  depth (m)  species     #/ha       g/ha      Lat     Long  \\\n",
      "0  1973   210         18      106  3079.45    9677.60  44.5177 -86.2595   \n",
      "1  1973   210         27      106   423.61   14230.06  44.5116 -86.2686   \n",
      "2  1973   210         37      106   998.16   29252.19  44.4852 -86.2994   \n",
      "3  1973   210         46      106  2862.63  113401.72  44.4838 -86.3097   \n",
      "4  1973   210         55      106  3108.58  127663.44  44.4867 -86.3176   \n",
      "\n",
      "   Species Code  Species Name  \n",
      "0            106      Alewife  \n",
      "1            106      Alewife  \n",
      "2            106      Alewife  \n",
      "3            106      Alewife  \n",
      "4            106      Alewife  \n"
     ]
    }
   ],
   "source": [
    "print(\"Shape of the merged dataframe: \", df_merged.shape)\n",
    "print()\n",
    "print(df_merged.head())"
   ]
  },
  {
   "cell_type": "markdown",
   "metadata": {},
   "source": [
    "#### convert unit of fish bimass from gram per hectre (g/ha) to kilgram per hectre (kg/ha). Rename the column heading also "
   ]
  },
  {
   "cell_type": "code",
   "execution_count": 12,
   "metadata": {},
   "outputs": [],
   "source": [
    "df_merged[\"g/ha\"]=df_merged[\"g/ha\"]/1000\n",
    "\n",
    "df_merged.rename(columns={\"g/ha\":\"kg/ha\"},inplace=True)"
   ]
  },
  {
   "cell_type": "code",
   "execution_count": 13,
   "metadata": {},
   "outputs": [
    {
     "data": {
      "text/html": [
       "<div>\n",
       "<style scoped>\n",
       "    .dataframe tbody tr th:only-of-type {\n",
       "        vertical-align: middle;\n",
       "    }\n",
       "\n",
       "    .dataframe tbody tr th {\n",
       "        vertical-align: top;\n",
       "    }\n",
       "\n",
       "    .dataframe thead th {\n",
       "        text-align: right;\n",
       "    }\n",
       "</style>\n",
       "<table border=\"1\" class=\"dataframe\">\n",
       "  <thead>\n",
       "    <tr style=\"text-align: right;\">\n",
       "      <th></th>\n",
       "      <th>year</th>\n",
       "      <th>port</th>\n",
       "      <th>depth (m)</th>\n",
       "      <th>species</th>\n",
       "      <th>#/ha</th>\n",
       "      <th>kg/ha</th>\n",
       "      <th>Lat</th>\n",
       "      <th>Long</th>\n",
       "      <th>Species Code</th>\n",
       "      <th>Species Name</th>\n",
       "    </tr>\n",
       "  </thead>\n",
       "  <tbody>\n",
       "    <tr>\n",
       "      <th>0</th>\n",
       "      <td>1973</td>\n",
       "      <td>210</td>\n",
       "      <td>18</td>\n",
       "      <td>106</td>\n",
       "      <td>3079.45</td>\n",
       "      <td>9.67760</td>\n",
       "      <td>44.5177</td>\n",
       "      <td>-86.2595</td>\n",
       "      <td>106</td>\n",
       "      <td>Alewife</td>\n",
       "    </tr>\n",
       "    <tr>\n",
       "      <th>1</th>\n",
       "      <td>1973</td>\n",
       "      <td>210</td>\n",
       "      <td>27</td>\n",
       "      <td>106</td>\n",
       "      <td>423.61</td>\n",
       "      <td>14.23006</td>\n",
       "      <td>44.5116</td>\n",
       "      <td>-86.2686</td>\n",
       "      <td>106</td>\n",
       "      <td>Alewife</td>\n",
       "    </tr>\n",
       "    <tr>\n",
       "      <th>2</th>\n",
       "      <td>1973</td>\n",
       "      <td>210</td>\n",
       "      <td>37</td>\n",
       "      <td>106</td>\n",
       "      <td>998.16</td>\n",
       "      <td>29.25219</td>\n",
       "      <td>44.4852</td>\n",
       "      <td>-86.2994</td>\n",
       "      <td>106</td>\n",
       "      <td>Alewife</td>\n",
       "    </tr>\n",
       "  </tbody>\n",
       "</table>\n",
       "</div>"
      ],
      "text/plain": [
       "   year  port  depth (m)  species     #/ha     kg/ha      Lat     Long  \\\n",
       "0  1973   210         18      106  3079.45   9.67760  44.5177 -86.2595   \n",
       "1  1973   210         27      106   423.61  14.23006  44.5116 -86.2686   \n",
       "2  1973   210         37      106   998.16  29.25219  44.4852 -86.2994   \n",
       "\n",
       "   Species Code  Species Name  \n",
       "0            106      Alewife  \n",
       "1            106      Alewife  \n",
       "2            106      Alewife  "
      ]
     },
     "execution_count": 13,
     "metadata": {},
     "output_type": "execute_result"
    }
   ],
   "source": [
    "df_merged.head(3)"
   ]
  },
  {
   "cell_type": "markdown",
   "metadata": {},
   "source": [
    "### Now merge port name with df_merged dataframe"
   ]
  },
  {
   "cell_type": "code",
   "execution_count": 14,
   "metadata": {},
   "outputs": [],
   "source": [
    "df_merged_v1 = df_merged.merge(df_port_name, how='inner', left_on='port', right_on='Port No')"
   ]
  },
  {
   "cell_type": "code",
   "execution_count": 15,
   "metadata": {},
   "outputs": [
    {
     "data": {
      "text/html": [
       "<div>\n",
       "<style scoped>\n",
       "    .dataframe tbody tr th:only-of-type {\n",
       "        vertical-align: middle;\n",
       "    }\n",
       "\n",
       "    .dataframe tbody tr th {\n",
       "        vertical-align: top;\n",
       "    }\n",
       "\n",
       "    .dataframe thead th {\n",
       "        text-align: right;\n",
       "    }\n",
       "</style>\n",
       "<table border=\"1\" class=\"dataframe\">\n",
       "  <thead>\n",
       "    <tr style=\"text-align: right;\">\n",
       "      <th></th>\n",
       "      <th>year</th>\n",
       "      <th>port</th>\n",
       "      <th>depth (m)</th>\n",
       "      <th>species</th>\n",
       "      <th>#/ha</th>\n",
       "      <th>kg/ha</th>\n",
       "      <th>Lat</th>\n",
       "      <th>Long</th>\n",
       "      <th>Species Code</th>\n",
       "      <th>Species Name</th>\n",
       "      <th>Port No</th>\n",
       "      <th>Port Name</th>\n",
       "    </tr>\n",
       "  </thead>\n",
       "  <tbody>\n",
       "    <tr>\n",
       "      <th>0</th>\n",
       "      <td>1973</td>\n",
       "      <td>210</td>\n",
       "      <td>18</td>\n",
       "      <td>106</td>\n",
       "      <td>3079.45</td>\n",
       "      <td>9.67760</td>\n",
       "      <td>44.5177</td>\n",
       "      <td>-86.2595</td>\n",
       "      <td>106</td>\n",
       "      <td>Alewife</td>\n",
       "      <td>210.0</td>\n",
       "      <td>Frankfort, MI</td>\n",
       "    </tr>\n",
       "    <tr>\n",
       "      <th>1</th>\n",
       "      <td>1973</td>\n",
       "      <td>210</td>\n",
       "      <td>27</td>\n",
       "      <td>106</td>\n",
       "      <td>423.61</td>\n",
       "      <td>14.23006</td>\n",
       "      <td>44.5116</td>\n",
       "      <td>-86.2686</td>\n",
       "      <td>106</td>\n",
       "      <td>Alewife</td>\n",
       "      <td>210.0</td>\n",
       "      <td>Frankfort, MI</td>\n",
       "    </tr>\n",
       "    <tr>\n",
       "      <th>2</th>\n",
       "      <td>1973</td>\n",
       "      <td>210</td>\n",
       "      <td>37</td>\n",
       "      <td>106</td>\n",
       "      <td>998.16</td>\n",
       "      <td>29.25219</td>\n",
       "      <td>44.4852</td>\n",
       "      <td>-86.2994</td>\n",
       "      <td>106</td>\n",
       "      <td>Alewife</td>\n",
       "      <td>210.0</td>\n",
       "      <td>Frankfort, MI</td>\n",
       "    </tr>\n",
       "    <tr>\n",
       "      <th>3</th>\n",
       "      <td>1973</td>\n",
       "      <td>210</td>\n",
       "      <td>46</td>\n",
       "      <td>106</td>\n",
       "      <td>2862.63</td>\n",
       "      <td>113.40172</td>\n",
       "      <td>44.4838</td>\n",
       "      <td>-86.3097</td>\n",
       "      <td>106</td>\n",
       "      <td>Alewife</td>\n",
       "      <td>210.0</td>\n",
       "      <td>Frankfort, MI</td>\n",
       "    </tr>\n",
       "    <tr>\n",
       "      <th>4</th>\n",
       "      <td>1973</td>\n",
       "      <td>210</td>\n",
       "      <td>55</td>\n",
       "      <td>106</td>\n",
       "      <td>3108.58</td>\n",
       "      <td>127.66344</td>\n",
       "      <td>44.4867</td>\n",
       "      <td>-86.3176</td>\n",
       "      <td>106</td>\n",
       "      <td>Alewife</td>\n",
       "      <td>210.0</td>\n",
       "      <td>Frankfort, MI</td>\n",
       "    </tr>\n",
       "  </tbody>\n",
       "</table>\n",
       "</div>"
      ],
      "text/plain": [
       "   year  port  depth (m)  species     #/ha      kg/ha      Lat     Long  \\\n",
       "0  1973   210         18      106  3079.45    9.67760  44.5177 -86.2595   \n",
       "1  1973   210         27      106   423.61   14.23006  44.5116 -86.2686   \n",
       "2  1973   210         37      106   998.16   29.25219  44.4852 -86.2994   \n",
       "3  1973   210         46      106  2862.63  113.40172  44.4838 -86.3097   \n",
       "4  1973   210         55      106  3108.58  127.66344  44.4867 -86.3176   \n",
       "\n",
       "   Species Code  Species Name  Port No      Port Name  \n",
       "0            106      Alewife    210.0  Frankfort, MI  \n",
       "1            106      Alewife    210.0  Frankfort, MI  \n",
       "2            106      Alewife    210.0  Frankfort, MI  \n",
       "3            106      Alewife    210.0  Frankfort, MI  \n",
       "4            106      Alewife    210.0  Frankfort, MI  "
      ]
     },
     "execution_count": 15,
     "metadata": {},
     "output_type": "execute_result"
    }
   ],
   "source": [
    "df_merged_v1.head()"
   ]
  },
  {
   "cell_type": "markdown",
   "metadata": {},
   "source": [
    "### drop two columns: 'Species Code ' and 'Port No'"
   ]
  },
  {
   "cell_type": "code",
   "execution_count": 16,
   "metadata": {},
   "outputs": [],
   "source": [
    "df_merged_v2 = df_merged_v1.drop(columns=['Species Code ', 'Port No'])"
   ]
  },
  {
   "cell_type": "code",
   "execution_count": 17,
   "metadata": {},
   "outputs": [
    {
     "data": {
      "text/html": [
       "<div>\n",
       "<style scoped>\n",
       "    .dataframe tbody tr th:only-of-type {\n",
       "        vertical-align: middle;\n",
       "    }\n",
       "\n",
       "    .dataframe tbody tr th {\n",
       "        vertical-align: top;\n",
       "    }\n",
       "\n",
       "    .dataframe thead th {\n",
       "        text-align: right;\n",
       "    }\n",
       "</style>\n",
       "<table border=\"1\" class=\"dataframe\">\n",
       "  <thead>\n",
       "    <tr style=\"text-align: right;\">\n",
       "      <th></th>\n",
       "      <th>year</th>\n",
       "      <th>port</th>\n",
       "      <th>depth (m)</th>\n",
       "      <th>species</th>\n",
       "      <th>#/ha</th>\n",
       "      <th>kg/ha</th>\n",
       "      <th>Lat</th>\n",
       "      <th>Long</th>\n",
       "      <th>Species Name</th>\n",
       "      <th>Port Name</th>\n",
       "    </tr>\n",
       "  </thead>\n",
       "  <tbody>\n",
       "    <tr>\n",
       "      <th>0</th>\n",
       "      <td>1973</td>\n",
       "      <td>210</td>\n",
       "      <td>18</td>\n",
       "      <td>106</td>\n",
       "      <td>3079.45</td>\n",
       "      <td>9.67760</td>\n",
       "      <td>44.5177</td>\n",
       "      <td>-86.2595</td>\n",
       "      <td>Alewife</td>\n",
       "      <td>Frankfort, MI</td>\n",
       "    </tr>\n",
       "    <tr>\n",
       "      <th>1</th>\n",
       "      <td>1973</td>\n",
       "      <td>210</td>\n",
       "      <td>27</td>\n",
       "      <td>106</td>\n",
       "      <td>423.61</td>\n",
       "      <td>14.23006</td>\n",
       "      <td>44.5116</td>\n",
       "      <td>-86.2686</td>\n",
       "      <td>Alewife</td>\n",
       "      <td>Frankfort, MI</td>\n",
       "    </tr>\n",
       "    <tr>\n",
       "      <th>2</th>\n",
       "      <td>1973</td>\n",
       "      <td>210</td>\n",
       "      <td>37</td>\n",
       "      <td>106</td>\n",
       "      <td>998.16</td>\n",
       "      <td>29.25219</td>\n",
       "      <td>44.4852</td>\n",
       "      <td>-86.2994</td>\n",
       "      <td>Alewife</td>\n",
       "      <td>Frankfort, MI</td>\n",
       "    </tr>\n",
       "  </tbody>\n",
       "</table>\n",
       "</div>"
      ],
      "text/plain": [
       "   year  port  depth (m)  species     #/ha     kg/ha      Lat     Long  \\\n",
       "0  1973   210         18      106  3079.45   9.67760  44.5177 -86.2595   \n",
       "1  1973   210         27      106   423.61  14.23006  44.5116 -86.2686   \n",
       "2  1973   210         37      106   998.16  29.25219  44.4852 -86.2994   \n",
       "\n",
       "  Species Name      Port Name  \n",
       "0      Alewife  Frankfort, MI  \n",
       "1      Alewife  Frankfort, MI  \n",
       "2      Alewife  Frankfort, MI  "
      ]
     },
     "execution_count": 17,
     "metadata": {},
     "output_type": "execute_result"
    }
   ],
   "source": [
    "df_merged_v2.head(3)"
   ]
  },
  {
   "cell_type": "markdown",
   "metadata": {},
   "source": [
    "### save the merged file as a csv file "
   ]
  },
  {
   "cell_type": "code",
   "execution_count": 18,
   "metadata": {},
   "outputs": [],
   "source": [
    "df_merged_v2.to_csv(\"Merged_df.csv\", index=False, index_label=False)"
   ]
  },
  {
   "cell_type": "markdown",
   "metadata": {},
   "source": [
    "### See yearly patterns of nearshore and offshore fish biomass\n",
    "- nearshore: depth is less than 30m\n",
    "- offshore: depth is more than or equal to 30m"
   ]
  },
  {
   "cell_type": "code",
   "execution_count": 20,
   "metadata": {},
   "outputs": [],
   "source": [
    "df_less_than_30m = df_merged_v2[df_merged_v2['depth (m)'] < 30]"
   ]
  },
  {
   "cell_type": "code",
   "execution_count": 21,
   "metadata": {},
   "outputs": [],
   "source": [
    "df_greater_than_30m = df_merged_v2[df_merged_v2['depth (m)'] >=30]"
   ]
  },
  {
   "cell_type": "markdown",
   "metadata": {},
   "source": [
    "### nearshore: gropuby year"
   ]
  },
  {
   "cell_type": "code",
   "execution_count": 22,
   "metadata": {},
   "outputs": [],
   "source": [
    "grouped = df_less_than_30m.groupby(['year'])"
   ]
  },
  {
   "cell_type": "code",
   "execution_count": 23,
   "metadata": {},
   "outputs": [
    {
     "data": {
      "text/plain": [
       "year\n",
       "1973     276.34043\n",
       "1974     257.48101\n",
       "1975     203.90504\n",
       "1976      76.80130\n",
       "1977      76.35374\n",
       "1978     259.15772\n",
       "1979     236.98272\n",
       "1980     393.93548\n",
       "1981     652.04423\n",
       "1982     272.28059\n",
       "1983     861.20451\n",
       "1984     935.01871\n",
       "1985     471.13379\n",
       "1986    1190.32366\n",
       "1987    1135.00743\n",
       "1988    1520.90585\n",
       "1989    1378.22345\n",
       "1990     662.47891\n",
       "1991     745.24295\n",
       "1992     625.26513\n",
       "1993     759.45078\n",
       "1994     588.31834\n",
       "1995     138.83016\n",
       "1996     447.01308\n",
       "1997    1004.15169\n",
       "1999     437.18373\n",
       "2000      57.88613\n",
       "2001      69.10122\n",
       "2002      19.49831\n",
       "2003     136.40549\n",
       "2004      53.41952\n",
       "2005     208.24458\n",
       "2006      60.73337\n",
       "2007      45.56522\n",
       "2008      99.57867\n",
       "2009     185.88987\n",
       "2010     201.03845\n",
       "2011      56.06345\n",
       "2012     111.82896\n",
       "2013     472.98113\n",
       "2014      52.88694\n",
       "2015      16.11066\n",
       "2016      42.17399\n",
       "2017      46.13770\n",
       "2018     122.36993\n",
       "Name: kg/ha, dtype: float64"
      ]
     },
     "execution_count": 23,
     "metadata": {},
     "output_type": "execute_result"
    }
   ],
   "source": [
    "# sns.set()\n",
    "grouped['kg/ha'].sum(axis=1) # .head(30).plot(kind='bar', figsize=(20,6))\n",
    "\n",
    "# plt.show()"
   ]
  },
  {
   "cell_type": "markdown",
   "metadata": {},
   "source": [
    "### save this data "
   ]
  },
  {
   "cell_type": "code",
   "execution_count": 24,
   "metadata": {},
   "outputs": [],
   "source": [
    "series_yearwise_fish= grouped['kg/ha'].sum(axis=1)"
   ]
  },
  {
   "cell_type": "code",
   "execution_count": 25,
   "metadata": {},
   "outputs": [],
   "source": [
    "series_yearwise_fish.to_csv('Year_Wise_All_Fish.csv', header=True)"
   ]
  },
  {
   "cell_type": "markdown",
   "metadata": {},
   "source": [
    "### plot year-wise nearshore total fish biomass"
   ]
  },
  {
   "cell_type": "code",
   "execution_count": 32,
   "metadata": {
    "scrolled": true
   },
   "outputs": [
    {
     "data": {
      "image/png": "[encoded data removed]",
      "text/plain": [
       "<Figure size 1440x432 with 1 Axes>"
      ]
     },
     "metadata": {},
     "output_type": "display_data"
    }
   ],
   "source": [
    "sns.set()\n",
    "grouped['kg/ha'].sum(axis=1).head(50).plot(kind='bar', figsize=(20,6))\n",
    "plt.xlabel('Year', fontsize=15)\n",
    "plt.ylabel('Biomass (kg/ha)', fontsize=15)\n",
    "plt.title('Yearly Fish Biomass at Nearshore', fontsize=20)\n",
    "plt.show()"
   ]
  },
  {
   "cell_type": "code",
   "execution_count": 27,
   "metadata": {},
   "outputs": [],
   "source": [
    "grouped_g = df_greater_than_30m.groupby(['year'])"
   ]
  },
  {
   "cell_type": "code",
   "execution_count": 28,
   "metadata": {},
   "outputs": [
    {
     "data": {
      "text/plain": [
       "year\n",
       "1973    2270.54158\n",
       "1974    1609.79223\n",
       "1975    2199.02230\n",
       "1976    1173.04977\n",
       "1977    1264.93715\n",
       "1978    1994.30869\n",
       "1979    2791.08337\n",
       "1980    2552.21994\n",
       "1981    3791.25150\n",
       "1982    3013.92594\n",
       "1983    4571.75225\n",
       "1984    4218.45608\n",
       "1985    5107.87462\n",
       "1986    4242.06274\n",
       "1987    5962.48358\n",
       "1988    5640.04878\n",
       "1989    7213.84926\n",
       "1990    5788.28239\n",
       "1991    5631.38149\n",
       "1992    7135.84307\n",
       "1993    5338.39951\n",
       "1994    4623.34650\n",
       "1995    3146.03360\n",
       "1996    5293.39704\n",
       "1997    4259.03442\n",
       "1999    1886.06761\n",
       "2000     640.37355\n",
       "2001    1464.28389\n",
       "2002    1767.69860\n",
       "2003    1304.19404\n",
       "2004     982.28617\n",
       "2005    1066.06616\n",
       "2006     807.16471\n",
       "2007     427.61377\n",
       "2008     368.75708\n",
       "2009     360.72828\n",
       "2010     450.35184\n",
       "2011     355.00525\n",
       "2012     141.96955\n",
       "2013     130.06085\n",
       "2014      37.66168\n",
       "2015      49.75422\n",
       "2016     197.37744\n",
       "2017     257.39763\n",
       "2018     348.89181\n",
       "Name: kg/ha, dtype: float64"
      ]
     },
     "execution_count": 28,
     "metadata": {},
     "output_type": "execute_result"
    }
   ],
   "source": [
    "grouped_g['kg/ha'].sum(axis=1)"
   ]
  },
  {
   "cell_type": "markdown",
   "metadata": {},
   "source": [
    "### save offshore yearwise total fish biomass"
   ]
  },
  {
   "cell_type": "code",
   "execution_count": 29,
   "metadata": {},
   "outputs": [],
   "source": [
    "series_yearwise_fish_g= grouped_g['kg/ha'].sum(axis=1)"
   ]
  },
  {
   "cell_type": "code",
   "execution_count": 30,
   "metadata": {},
   "outputs": [],
   "source": [
    "series_yearwise_fish_g.to_csv('Year_Wise_All_Fish_Offshore.csv', header=True)"
   ]
  },
  {
   "cell_type": "markdown",
   "metadata": {},
   "source": [
    "### plot yearwise offshore total biomass"
   ]
  },
  {
   "cell_type": "code",
   "execution_count": null,
   "metadata": {},
   "outputs": [],
   "source": []
  },
  {
   "cell_type": "code",
   "execution_count": 33,
   "metadata": {},
   "outputs": [
    {
     "data": {
      "image/png": "[encoded data removed]",
      "text/plain": [
       "<Figure size 1440x432 with 1 Axes>"
      ]
     },
     "metadata": {},
     "output_type": "display_data"
    }
   ],
   "source": [
    "sns.set()\n",
    "grouped_g['kg/ha'].sum(axis=1).head(50).plot(kind='bar', figsize=(20,6))\n",
    "plt.xlabel('Year', fontsize=15)\n",
    "plt.ylabel('Biomass (kg/ha)', fontsize=15)\n",
    "plt.title('Yearly Fish Biomass at Offshore', fontsize=20)\n",
    "plt.show()"
   ]
  },
  {
   "cell_type": "code",
   "execution_count": null,
   "metadata": {},
   "outputs": [],
   "source": []
  },
  {
   "cell_type": "raw",
   "metadata": {},
   "source": []
  },
  {
   "cell_type": "markdown",
   "metadata": {},
   "source": [
    "### Nearshore: year and species wise total fish biomass"
   ]
  },
  {
   "cell_type": "code",
   "execution_count": 34,
   "metadata": {},
   "outputs": [],
   "source": [
    "grouped_year_species = df_less_than_30m.groupby(['year', 'Species Name'])"
   ]
  },
  {
   "cell_type": "code",
   "execution_count": 35,
   "metadata": {},
   "outputs": [],
   "source": [
    "series_year_species_wise_fish= grouped_year_species['kg/ha'].sum(axis=1)"
   ]
  },
  {
   "cell_type": "code",
   "execution_count": 36,
   "metadata": {},
   "outputs": [
    {
     "data": {
      "text/plain": [
       "year  Species Name          \n",
       "1973  Alewife                   135.79110\n",
       "      Bloater                     1.99304\n",
       "      Burbot                      2.97819\n",
       "      Deepwater sculpin           0.00000\n",
       "      Lake trout                  1.17669\n",
       "      Lake whitefish              0.00000\n",
       "      Ninespine stickleback       0.09775\n",
       "      Rainbow Smelt             128.23161\n",
       "      Round goby                  0.00000\n",
       "      Slimy sculpin               0.02477\n",
       "      Threespine stickleback      0.00000\n",
       "      Yellow perch                6.04728\n",
       "1974  Alewife                   165.63417\n",
       "      Bloater                     2.73609\n",
       "      Burbot                      0.00000\n",
       "      Deepwater sculpin           0.00000\n",
       "      Lake trout                 11.11475\n",
       "      Lake whitefish              0.26209\n",
       "      Ninespine stickleback       0.16597\n",
       "      Rainbow Smelt              71.90044\n",
       "      Round goby                  0.00000\n",
       "      Slimy sculpin               0.11491\n",
       "      Threespine stickleback      0.00000\n",
       "      Yellow perch                5.55259\n",
       "1975  Alewife                   168.97348\n",
       "      Bloater                     1.72492\n",
       "      Burbot                      0.00000\n",
       "      Deepwater sculpin           0.00000\n",
       "      Lake trout                  0.58210\n",
       "      Lake whitefish              0.00000\n",
       "                                  ...    \n",
       "2016  Ninespine stickleback       0.03191\n",
       "      Rainbow Smelt               4.40581\n",
       "      Round goby                 14.84771\n",
       "      Slimy sculpin               0.35474\n",
       "      Threespine stickleback      0.00000\n",
       "      Yellow perch                2.57219\n",
       "2017  Alewife                     0.07152\n",
       "      Bloater                    15.44793\n",
       "      Burbot                      0.00000\n",
       "      Deepwater sculpin           0.00000\n",
       "      Lake trout                 14.18986\n",
       "      Lake whitefish              0.03485\n",
       "      Ninespine stickleback       0.00664\n",
       "      Rainbow Smelt               9.74858\n",
       "      Round goby                  5.51968\n",
       "      Slimy sculpin               0.00000\n",
       "      Threespine stickleback      0.00000\n",
       "      Yellow perch                1.11864\n",
       "2018  Alewife                     1.58034\n",
       "      Bloater                     0.58285\n",
       "      Burbot                      0.00000\n",
       "      Deepwater sculpin           0.00000\n",
       "      Lake trout                 13.47022\n",
       "      Lake whitefish              0.02120\n",
       "      Ninespine stickleback       0.28665\n",
       "      Rainbow Smelt              26.79245\n",
       "      Round goby                 77.67192\n",
       "      Slimy sculpin               0.06325\n",
       "      Threespine stickleback      0.00000\n",
       "      Yellow perch                1.90105\n",
       "Name: kg/ha, Length: 540, dtype: float64"
      ]
     },
     "execution_count": 36,
     "metadata": {},
     "output_type": "execute_result"
    }
   ],
   "source": [
    "series_year_species_wise_fish"
   ]
  },
  {
   "cell_type": "code",
   "execution_count": 37,
   "metadata": {},
   "outputs": [
    {
     "data": {
      "image/png": "[encoded data removed]",
      "text/plain": [
       "<Figure size 1080x432 with 1 Axes>"
      ]
     },
     "metadata": {},
     "output_type": "display_data"
    }
   ],
   "source": [
    "series_year_species_wise_fish.head(20).plot(kind='bar', figsize=(15,6))\n",
    "plt.xlabel('Year', fontsize=15)\n",
    "plt.ylabel('Biomass (kg/ha)', fontsize=15)\n",
    "plt.title('Yearly species-wise fish biomass at nearshore', fontsize=20)\n",
    "plt.show()"
   ]
  },
  {
   "cell_type": "markdown",
   "metadata": {},
   "source": [
    "### Saving longitude, latitude to csv files for nearshore and offshore"
   ]
  },
  {
   "cell_type": "code",
   "execution_count": null,
   "metadata": {},
   "outputs": [],
   "source": [
    "df_less_than_30m.columns"
   ]
  },
  {
   "cell_type": "code",
   "execution_count": null,
   "metadata": {},
   "outputs": [],
   "source": [
    "df_lat_longitude_for_less_than_30 = df_less_than_30m[['Lat', 'Long']]"
   ]
  },
  {
   "cell_type": "code",
   "execution_count": null,
   "metadata": {},
   "outputs": [],
   "source": [
    "df_lat_longitude_for_less_than_30.to_csv('LAT_LON_NEARSHORE.csv')"
   ]
  },
  {
   "cell_type": "code",
   "execution_count": null,
   "metadata": {},
   "outputs": [],
   "source": [
    "df_lat_longitude_for_greater_than_30 = df_greater_than_30m[['Lat', 'Long']]"
   ]
  },
  {
   "cell_type": "code",
   "execution_count": null,
   "metadata": {},
   "outputs": [],
   "source": [
    "df_lat_longitude_for_greater_than_30.to_csv('LAT_LON_OFFSHORE.csv')"
   ]
  },
  {
   "cell_type": "code",
   "execution_count": null,
   "metadata": {},
   "outputs": [],
   "source": [
    "df_lat_longitude_for_greater_than_30.to_csv('LAT_LON_OFFSHORE.csv')"
   ]
  },
  {
   "cell_type": "code",
   "execution_count": null,
   "metadata": {},
   "outputs": [],
   "source": []
  }
 ],
 "metadata": {
  "kernelspec": {
   "display_name": "Python 3",
   "language": "python",
   "name": "python3"
  },
  "language_info": {
   "codemirror_mode": {
    "name": "ipython",
    "version": 3
   },
   "file_extension": ".py",
   "mimetype": "text/x-python",
   "name": "python",
   "nbconvert_exporter": "python",
   "pygments_lexer": "ipython3",
   "version": "3.7.1"
  }
 },
 "nbformat": 4,
 "nbformat_minor": 2
}
